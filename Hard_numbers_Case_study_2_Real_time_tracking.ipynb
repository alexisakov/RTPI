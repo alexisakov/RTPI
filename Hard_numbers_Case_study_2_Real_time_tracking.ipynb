{
  "nbformat": 4,
  "nbformat_minor": 0,
  "metadata": {
    "colab": {
      "name": "Hard numbers. Case study 2. Real-time tracking",
      "provenance": [],
      "collapsed_sections": [],
      "authorship_tag": "ABX9TyPzJHNdr6Q4agCWTDwIApd3",
      "include_colab_link": true
    },
    "kernelspec": {
      "name": "python3",
      "display_name": "Python 3"
    }
  },
  "cells": [
    {
      "cell_type": "markdown",
      "metadata": {
        "id": "view-in-github",
        "colab_type": "text"
      },
      "source": [
        "<a href=\"https://colab.research.google.com/github/alexisakov/RTPI/blob/master/Hard_numbers_Case_study_2_Real_time_tracking.ipynb\" target=\"_parent\"><img src=\"https://colab.research.google.com/assets/colab-badge.svg\" alt=\"Open In Colab\"/></a>"
      ]
    },
    {
      "cell_type": "markdown",
      "metadata": {
        "id": "9QlT9BJg5Xy3"
      },
      "source": [
        "# Hard numbers. Case study 2: (Almost) real-time tracking"
      ]
    },
    {
      "cell_type": "code",
      "metadata": {
        "id": "4IBWPgOD5jZl"
      },
      "source": [
        "import requests\r\n",
        "import numpy as np\r\n",
        "import pandas as pd"
      ],
      "execution_count": 1,
      "outputs": []
    },
    {
      "cell_type": "markdown",
      "metadata": {
        "id": "44LnPHiD7M4N"
      },
      "source": [
        "Set up connection to the Hard Numbers API - you will need your API Key - reach us to get one: https://t.me/xiskv."
      ]
    },
    {
      "cell_type": "code",
      "metadata": {
        "id": "Q8_oY1Xa5oU3"
      },
      "source": [
        "base_url='http://rtpiapi.hrdn.io/'\r\n",
        "\r\n",
        "token = 'YOUR TOKEN'\r\n",
        "\r\n",
        "request_headers = {'Authorization': f'Bearer {token}',\r\n",
        "                    'Content-Type': 'application/json',\r\n",
        "                    'Range-Unit': 'items'\r\n",
        "                  }"
      ],
      "execution_count": 2,
      "outputs": []
    },
    {
      "cell_type": "markdown",
      "metadata": {
        "id": "2bg6NTOY7Rlw"
      },
      "source": [
        "For reference here is the Rosstat's current codebook: https://rosstat.gov.ru/storage/mediabank/j3LP7dsR/nabor_2020.xlsx\r\n",
        "\r\n",
        "We choose white sugar for this example:"
      ]
    },
    {
      "cell_type": "code",
      "metadata": {
        "id": "KgE8bXq45Vs1"
      },
      "source": [
        "rosstat_id = 1601\r\n",
        "\r\n",
        "request_url = base_url + f\"rtpi_price_page?select=*&rosstat_id=eq.{rosstat_id}\""
      ],
      "execution_count": 6,
      "outputs": []
    },
    {
      "cell_type": "markdown",
      "metadata": {
        "id": "t8DilUB2EMjo"
      },
      "source": [
        "Now get the data:"
      ]
    },
    {
      "cell_type": "code",
      "metadata": {
        "id": "JVegjbkw7eq-"
      },
      "source": [
        "response = requests.get(request_url, headers = request_headers).json()"
      ],
      "execution_count": 9,
      "outputs": []
    },
    {
      "cell_type": "markdown",
      "metadata": {
        "id": "hYIRGB2pEQP-"
      },
      "source": [
        "We collect all the ids of the items, which have been classified as white sugar and make another request to the API - but now to the prices table:"
      ]
    },
    {
      "cell_type": "code",
      "metadata": {
        "id": "Ai3XqIIe9Eg2"
      },
      "source": [
        "ids = [x['web_price_id'] for x in response];\r\n",
        "request_url =base_url + f\"rtpi_price?select=*&web_price_id=in.{tuple(ids)}\"\r\n",
        "prices = requests.get(request_url, headers = request_headers).json()"
      ],
      "execution_count": 62,
      "outputs": []
    },
    {
      "cell_type": "markdown",
      "metadata": {
        "id": "H5P917sLEfdy"
      },
      "source": [
        "Convert to the data frame, then pivot it so that product ids are now columns:"
      ]
    },
    {
      "cell_type": "code",
      "metadata": {
        "id": "LXhgm96J7g-k"
      },
      "source": [
        "df = pd.DataFrame(prices)\r\n",
        "pricedf = df.pivot(index='date_observe', columns='web_price_id', values=['current_price'])"
      ],
      "execution_count": 19,
      "outputs": []
    },
    {
      "cell_type": "markdown",
      "metadata": {
        "id": "D7fVU-bYFBdz"
      },
      "source": [
        "Now - a bit of housekeeping - we convert index to date-time, resample to hourly frequecy, forward fill missing observations for 10 days:"
      ]
    },
    {
      "cell_type": "code",
      "metadata": {
        "id": "EwIk4hhG7iP8"
      },
      "source": [
        "pricedf.index = pd.to_datetime(pricedf.index)\r\n",
        "pricedfh = pricedf.resample('H').max()\r\n",
        "pricedfh = pricedfh.ffill(limit=10*24)"
      ],
      "execution_count": 63,
      "outputs": []
    },
    {
      "cell_type": "markdown",
      "metadata": {
        "id": "Dqo374gHFUcj"
      },
      "source": [
        "Let's see, what columns are available:"
      ]
    },
    {
      "cell_type": "code",
      "metadata": {
        "colab": {
          "base_uri": "https://localhost:8080/"
        },
        "id": "xvDJ3FcNCwQQ",
        "outputId": "45f18257-ea0e-4f25-8fe2-f6b359bec224"
      },
      "source": [
        "pricedfh.columns.values"
      ],
      "execution_count": 65,
      "outputs": [
        {
          "output_type": "execute_result",
          "data": {
            "text/plain": [
              "array([('current_price', 126081), ('current_price', 126093),\n",
              "       ('current_price', 138979), ('current_price', 139265),\n",
              "       ('current_price', 139295), ('current_price', 139644),\n",
              "       ('current_price', 139660), ('current_price', 162819),\n",
              "       ('current_price', 335772), ('current_price', 335773),\n",
              "       ('current_price', 335913), ('current_price', 335924),\n",
              "       ('current_price', 335939), ('current_price', 2974674),\n",
              "       ('current_price', 2975629), ('current_price', 2976532),\n",
              "       ('current_price', 2978727), ('current_price', 3036781),\n",
              "       ('current_price', 3415970), ('current_price', 3449488)],\n",
              "      dtype=object)"
            ]
          },
          "metadata": {
            "tags": []
          },
          "execution_count": 65
        }
      ]
    },
    {
      "cell_type": "markdown",
      "metadata": {
        "id": "aAs7ibdSFf4w"
      },
      "source": [
        "So, now we can plot the corresponding data:"
      ]
    },
    {
      "cell_type": "code",
      "metadata": {
        "colab": {
          "base_uri": "https://localhost:8080/",
          "height": 309
        },
        "id": "kkue_WoV9wja",
        "outputId": "db7d5a17-d37f-426d-dd6e-9414d75ad6fb"
      },
      "source": [
        "goodid = 139660;\r\n",
        "pricedfh[('current_price',  goodid)].plot()"
      ],
      "execution_count": 66,
      "outputs": [
        {
          "output_type": "execute_result",
          "data": {
            "text/plain": [
              "<matplotlib.axes._subplots.AxesSubplot at 0x7f1d26b145c0>"
            ]
          },
          "metadata": {
            "tags": []
          },
          "execution_count": 66
        },
        {
          "output_type": "display_data",
          "data": {
            "image/png": "[encoded data removed]",
            "text/plain": [
              "<Figure size 432x288 with 1 Axes>"
            ]
          },
          "metadata": {
            "tags": [],
            "needs_background": "light"
          }
        }
      ]
    },
    {
      "cell_type": "markdown",
      "metadata": {
        "id": "lOyX-lpNFtj7"
      },
      "source": [
        "In case we want to understand the source of the id we can query the rtpi_price_page table:"
      ]
    },
    {
      "cell_type": "code",
      "metadata": {
        "id": "zMrqJ2elFm_1"
      },
      "source": [
        "request_url = base_url + f\"rtpi_price_page?select=*&web_price_id=eq.{goodid}\"\r\n",
        "requests.get(request_url, headers = request_headers).json()"
      ],
      "execution_count": null,
      "outputs": []
    }
  ]
}
