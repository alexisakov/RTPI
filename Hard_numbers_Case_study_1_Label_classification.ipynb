{
  "nbformat": 4,
  "nbformat_minor": 0,
  "metadata": {
    "colab": {
      "name": "Hard numbers. Case study 1. Label classification.ipynb",
      "provenance": [],
      "collapsed_sections": [],
      "authorship_tag": "ABX9TyNcAcpZaXFi3hJuvY572ZTB",
      "include_colab_link": true
    },
    "kernelspec": {
      "name": "python3",
      "display_name": "Python 3"
    }
  },
  "cells": [
    {
      "cell_type": "markdown",
      "metadata": {
        "id": "view-in-github",
        "colab_type": "text"
      },
      "source": [
        "<a href=\"https://colab.research.google.com/github/alexisakov/RTPI/blob/master/Hard_numbers_Case_study_1_Label_classification.ipynb\" target=\"_parent\"><img src=\"https://colab.research.google.com/assets/colab-badge.svg\" alt=\"Open In Colab\"/></a>"
      ]
    },
    {
      "cell_type": "markdown",
      "metadata": {
        "id": "aVL38LG2h8Ak"
      },
      "source": [
        "# Case 1. Product label classification: 'The Dumpling' "
      ]
    },
    {
      "cell_type": "markdown",
      "metadata": {
        "id": "XbqxqeGwiWlo"
      },
      "source": [
        "Import Yandex MyStem for lemmatizatio + requests for talking to API + scikit-learn which will do most of the work."
      ]
    },
    {
      "cell_type": "code",
      "metadata": {
        "id": "wEY52-dwXwhX"
      },
      "source": [
        "!wget http://download.cdn.yandex.net/mystem/mystem-3.0-linux3.1-64bit.tar.gz\r\n",
        "!tar -xvf mystem-3.0-linux3.1-64bit.tar.gz\r\n",
        "!cp mystem /root/.local/bin/mystem"
      ],
      "execution_count": null,
      "outputs": []
    },
    {
      "cell_type": "code",
      "metadata": {
        "colab": {
          "base_uri": "https://localhost:8080/"
        },
        "id": "7Vda-BP9V8z7",
        "outputId": "4a16b581-c6f3-4b7c-948b-820d8d2ff8bb"
      },
      "source": [
        "pip install pymystem3"
      ],
      "execution_count": 23,
      "outputs": [
        {
          "output_type": "stream",
          "text": [
            "Requirement already satisfied: pymystem3 in /usr/local/lib/python3.6/dist-packages (0.2.0)\n",
            "Requirement already satisfied: requests in /usr/local/lib/python3.6/dist-packages (from pymystem3) (2.23.0)\n",
            "Requirement already satisfied: idna<3,>=2.5 in /usr/local/lib/python3.6/dist-packages (from requests->pymystem3) (2.10)\n",
            "Requirement already satisfied: urllib3!=1.25.0,!=1.25.1,<1.26,>=1.21.1 in /usr/local/lib/python3.6/dist-packages (from requests->pymystem3) (1.24.3)\n",
            "Requirement already satisfied: certifi>=2017.4.17 in /usr/local/lib/python3.6/dist-packages (from requests->pymystem3) (2020.12.5)\n",
            "Requirement already satisfied: chardet<4,>=3.0.2 in /usr/local/lib/python3.6/dist-packages (from requests->pymystem3) (3.0.4)\n"
          ],
          "name": "stdout"
        }
      ]
    },
    {
      "cell_type": "code",
      "metadata": {
        "id": "qadtVZFOWS-4"
      },
      "source": [
        "from pymystem3 import Mystem"
      ],
      "execution_count": 24,
      "outputs": []
    },
    {
      "cell_type": "code",
      "metadata": {
        "id": "wi9KjUsZXNGg"
      },
      "source": [
        "import requests\r\n",
        "import numpy as np\r\n",
        "import pandas as pd\r\n",
        "from sklearn.linear_model import LogisticRegression\r\n",
        "from sklearn.feature_extraction.text import CountVectorizer,TfidfVectorizer"
      ],
      "execution_count": 39,
      "outputs": []
    },
    {
      "cell_type": "code",
      "metadata": {
        "id": "R0qdNUS_cXx5"
      },
      "source": [
        "m = Mystem()"
      ],
      "execution_count": 52,
      "outputs": []
    },
    {
      "cell_type": "markdown",
      "metadata": {
        "id": "-Kz-2wGUiorx"
      },
      "source": [
        "Set up connection to the Hard Numbers API - you will need your API Key - reach us to get one: https://t.me/xiskv."
      ]
    },
    {
      "cell_type": "code",
      "metadata": {
        "id": "FD2WMvPljjs5"
      },
      "source": [
        "base_url='http://rtpiapi.hrdn.io/'\r\n",
        "\r\n",
        "token = 'YOUR API KEY GOES HERE'\r\n",
        "\r\n",
        "request_headers = {'Authorization': f'Bearer {token}',\r\n",
        "                    'Content-Type': 'application/json',\r\n",
        "                    'Range-Unit': 'items'\r\n",
        "                  }"
      ],
      "execution_count": 26,
      "outputs": []
    },
    {
      "cell_type": "markdown",
      "metadata": {
        "id": "kn1l1IDqjXwS"
      },
      "source": [
        "Here we get all the text label data:"
      ]
    },
    {
      "cell_type": "code",
      "metadata": {
        "id": "0D-Wy3QkjpOY"
      },
      "source": [
        "request_url = base_url + 'rtpi_product_name'\r\n",
        "\r\n",
        "response = requests.get(request_url, headers = request_headers).json()"
      ],
      "execution_count": 27,
      "outputs": []
    },
    {
      "cell_type": "markdown",
      "metadata": {
        "id": "y9nvRLjljj_x"
      },
      "source": [
        "Overall there is about 153k labels"
      ]
    },
    {
      "cell_type": "code",
      "metadata": {
        "colab": {
          "base_uri": "https://localhost:8080/"
        },
        "id": "2z0_v7tYkQY0",
        "outputId": "bc8253f0-c33a-4860-a5e6-53d4653b90a6"
      },
      "source": [
        "len(response)"
      ],
      "execution_count": 28,
      "outputs": [
        {
          "output_type": "execute_result",
          "data": {
            "text/plain": [
              "153625"
            ]
          },
          "metadata": {
            "tags": []
          },
          "execution_count": 28
        }
      ]
    },
    {
      "cell_type": "code",
      "metadata": {
        "colab": {
          "base_uri": "https://localhost:8080/"
        },
        "id": "PBq3qziCkSQl",
        "outputId": "f909bfd9-8151-4651-ea25-227210c7c5d7"
      },
      "source": [
        "response[0]"
      ],
      "execution_count": 29,
      "outputs": [
        {
          "output_type": "execute_result",
          "data": {
            "text/plain": [
              "{'contributor_id': 1,\n",
              " 'product_name': 'Круассаны Olga Voloza с вареной сгущенкой 325г',\n",
              " 'web_price_id': 133490}"
            ]
          },
          "metadata": {
            "tags": []
          },
          "execution_count": 29
        }
      ]
    },
    {
      "cell_type": "markdown",
      "metadata": {
        "id": "OMI8mEN8jtEm"
      },
      "source": [
        "Now let's make a call to both text lable table rtpi_product_name and the general dictionary of traked products rtpi_price_page so that we get those text labels that we have already matched with the Rosstat's codebook:"
      ]
    },
    {
      "cell_type": "code",
      "metadata": {
        "id": "YjSBYs18mhAX"
      },
      "source": [
        "request_url = base_url + 'rtpi_product_name?select=*,rtpi_price_page(rosstat_id)&(rosstat_id.rosstat_id.not.is.null)'\r\n",
        "responseXY = requests.get(request_url, headers = request_headers).json()\r\n",
        "responseXY = [x for x in responseXY if (x['rtpi_price_page']['rosstat_id'])]"
      ],
      "execution_count": 30,
      "outputs": []
    },
    {
      "cell_type": "code",
      "metadata": {
        "colab": {
          "base_uri": "https://localhost:8080/"
        },
        "id": "zpIEMdVfnThK",
        "outputId": "509a786a-05d2-469d-d28e-7bc89495c70d"
      },
      "source": [
        "len(responseXY)"
      ],
      "execution_count": 94,
      "outputs": [
        {
          "output_type": "execute_result",
          "data": {
            "text/plain": [
              "13127"
            ]
          },
          "metadata": {
            "tags": []
          },
          "execution_count": 94
        }
      ]
    },
    {
      "cell_type": "markdown",
      "metadata": {
        "id": "D2x7FZNXkROQ"
      },
      "source": [
        "For reference here is the Rosstat's current codebook: https://rosstat.gov.ru/storage/mediabank/j3LP7dsR/nabor_2020.xlsx"
      ]
    },
    {
      "cell_type": "markdown",
      "metadata": {
        "id": "Is_t7ZkPkbm4"
      },
      "source": [
        "Okay, here is a bit of flattenting of our list of dicts - just to keep things tidy:"
      ]
    },
    {
      "cell_type": "code",
      "metadata": {
        "id": "fOc6N3ftkXLS"
      },
      "source": [
        "[x.update(x['rtpi_price_page']) for x in responseXY];\r\n",
        "[x.pop('rtpi_price_page',None) for x in responseXY];"
      ],
      "execution_count": null,
      "outputs": []
    },
    {
      "cell_type": "markdown",
      "metadata": {
        "id": "JSFPqtPGkl8A"
      },
      "source": [
        " Now, let's use Y.MyStem to standardize/lemmatize product labels: "
      ]
    },
    {
      "cell_type": "code",
      "metadata": {
        "id": "mYAeOT-hklJA"
      },
      "source": [
        "[x.update({'product_name': ''.join(m.lemmatize(x['product_name'])).rstrip()}) for x in responseXY];\r\n",
        "[x.update({'product_name': ''.join(m.lemmatize(x['product_name'])).rstrip()}) for x in response];"
      ],
      "execution_count": null,
      "outputs": []
    },
    {
      "cell_type": "code",
      "metadata": {
        "colab": {
          "base_uri": "https://localhost:8080/"
        },
        "id": "-SXI__Gl1T52",
        "outputId": "ac95c390-1985-4354-f028-7aff7ef5d1c9"
      },
      "source": [
        "responseXY[0]"
      ],
      "execution_count": 38,
      "outputs": [
        {
          "output_type": "execute_result",
          "data": {
            "text/plain": [
              "{'contributor_id': 1,\n",
              " 'product_name': 'сухой корм для собака Profine Light ягненок 15кг',\n",
              " 'rosstat_id': 8311,\n",
              " 'web_price_id': 148128}"
            ]
          },
          "metadata": {
            "tags": []
          },
          "execution_count": 38
        }
      ]
    },
    {
      "cell_type": "markdown",
      "metadata": {
        "id": "jjbWvcNZZk4q"
      },
      "source": [
        "Okay - now the most interesting part - let's fit the logistic regression to the text data - this will allow us to use machine learning to automate labelling - whoa! \r\n"
      ]
    },
    {
      "cell_type": "code",
      "metadata": {
        "id": "RAff-fCa1Vho"
      },
      "source": [
        "xydf = pd.DataFrame(responseXY)"
      ],
      "execution_count": 40,
      "outputs": []
    },
    {
      "cell_type": "code",
      "metadata": {
        "colab": {
          "base_uri": "https://localhost:8080/",
          "height": 204
        },
        "id": "FUjFTBSxaPqK",
        "outputId": "7c76e151-64ca-40d7-bb95-300368a6c5d3"
      },
      "source": [
        "xydf.head()"
      ],
      "execution_count": 41,
      "outputs": [
        {
          "output_type": "execute_result",
          "data": {
            "text/html": [
              "<div>\n",
              "<style scoped>\n",
              "    .dataframe tbody tr th:only-of-type {\n",
              "        vertical-align: middle;\n",
              "    }\n",
              "\n",
              "    .dataframe tbody tr th {\n",
              "        vertical-align: top;\n",
              "    }\n",
              "\n",
              "    .dataframe thead th {\n",
              "        text-align: right;\n",
              "    }\n",
              "</style>\n",
              "<table border=\"1\" class=\"dataframe\">\n",
              "  <thead>\n",
              "    <tr style=\"text-align: right;\">\n",
              "      <th></th>\n",
              "      <th>web_price_id</th>\n",
              "      <th>product_name</th>\n",
              "      <th>contributor_id</th>\n",
              "      <th>rosstat_id</th>\n",
              "    </tr>\n",
              "  </thead>\n",
              "  <tbody>\n",
              "    <tr>\n",
              "      <th>0</th>\n",
              "      <td>148128</td>\n",
              "      <td>сухой корм для собака Profine Light ягненок 15кг</td>\n",
              "      <td>1</td>\n",
              "      <td>8311</td>\n",
              "    </tr>\n",
              "    <tr>\n",
              "      <th>1</th>\n",
              "      <td>148455</td>\n",
              "      <td>сухой корм для собака Pro Plan Optiweight Smal...</td>\n",
              "      <td>1</td>\n",
              "      <td>8311</td>\n",
              "    </tr>\n",
              "    <tr>\n",
              "      <th>2</th>\n",
              "      <td>149127</td>\n",
              "      <td>томат маркет перекресток резаный 390г</td>\n",
              "      <td>1</td>\n",
              "      <td>1302</td>\n",
              "    </tr>\n",
              "    <tr>\n",
              "      <th>3</th>\n",
              "      <td>149296</td>\n",
              "      <td>горошек Bonduelle зеленый молодой 400г</td>\n",
              "      <td>1</td>\n",
              "      <td>1302</td>\n",
              "    </tr>\n",
              "    <tr>\n",
              "      <th>4</th>\n",
              "      <td>150154</td>\n",
              "      <td>кетчуп Calve баварский 350мл</td>\n",
              "      <td>1</td>\n",
              "      <td>1305</td>\n",
              "    </tr>\n",
              "  </tbody>\n",
              "</table>\n",
              "</div>"
            ],
            "text/plain": [
              "   web_price_id  ... rosstat_id\n",
              "0        148128  ...       8311\n",
              "1        148455  ...       8311\n",
              "2        149127  ...       1302\n",
              "3        149296  ...       1302\n",
              "4        150154  ...       1305\n",
              "\n",
              "[5 rows x 4 columns]"
            ]
          },
          "metadata": {
            "tags": []
          },
          "execution_count": 41
        }
      ]
    },
    {
      "cell_type": "markdown",
      "metadata": {
        "id": "C5FVzWrvlLIW"
      },
      "source": [
        "To keep things simple I choose to fit the model to classify just one type of product - dumplings, which have Rosstat's code of '106':"
      ]
    },
    {
      "cell_type": "code",
      "metadata": {
        "id": "LrQ5cLpKlIjW"
      },
      "source": [
        "targetProductCode = 106 "
      ],
      "execution_count": null,
      "outputs": []
    },
    {
      "cell_type": "code",
      "metadata": {
        "id": "yTXi_5kSaSsR"
      },
      "source": [
        "Y = xydf['rosstat_id'].apply(lambda x: 1 if x == targetProductCode else 0)"
      ],
      "execution_count": 43,
      "outputs": []
    },
    {
      "cell_type": "markdown",
      "metadata": {
        "id": "RGM0bBSklYSz"
      },
      "source": [
        "There is this number of dumplings which we have manually labeled at this point:"
      ]
    },
    {
      "cell_type": "code",
      "metadata": {
        "colab": {
          "base_uri": "https://localhost:8080/"
        },
        "id": "DjIr-s38aTPu",
        "outputId": "2fb04a99-44cc-4203-d3e6-7d7f1596e613"
      },
      "source": [
        "Y.sum()"
      ],
      "execution_count": 44,
      "outputs": [
        {
          "output_type": "execute_result",
          "data": {
            "text/plain": [
              "105"
            ]
          },
          "metadata": {
            "tags": []
          },
          "execution_count": 44
        }
      ]
    },
    {
      "cell_type": "markdown",
      "metadata": {
        "id": "R9k1JAX9lgdX"
      },
      "source": [
        "Now vectorize our text labels:"
      ]
    },
    {
      "cell_type": "code",
      "metadata": {
        "id": "5qy3FqLNaS-8"
      },
      "source": [
        "tfidf_vectorizer=TfidfVectorizer(use_idf=True, max_df=0.95)"
      ],
      "execution_count": 45,
      "outputs": []
    },
    {
      "cell_type": "code",
      "metadata": {
        "colab": {
          "base_uri": "https://localhost:8080/"
        },
        "id": "gEtbpOTjbHR0",
        "outputId": "4af5fd8e-332b-4e55-ab12-cf68bbafd92a"
      },
      "source": [
        "tfidf_vectorizer.fit_transform(xydf['product_name'].values)"
      ],
      "execution_count": 46,
      "outputs": [
        {
          "output_type": "execute_result",
          "data": {
            "text/plain": [
              "<13127x10157 sparse matrix of type '<class 'numpy.float64'>'\n",
              "\twith 84432 stored elements in Compressed Sparse Row format>"
            ]
          },
          "metadata": {
            "tags": []
          },
          "execution_count": 46
        }
      ]
    },
    {
      "cell_type": "code",
      "metadata": {
        "id": "MV4bZWGebDdV"
      },
      "source": [
        "X = tfidf_vectorizer.transform(xydf['product_name'].values)"
      ],
      "execution_count": 47,
      "outputs": []
    },
    {
      "cell_type": "markdown",
      "metadata": {
        "id": "DC4kB-FPlkqY"
      },
      "source": [
        "Fit the linear regression:"
      ]
    },
    {
      "cell_type": "code",
      "metadata": {
        "id": "jiXqUpL63Omq"
      },
      "source": [
        "scikit_log_reg = LogisticRegression(verbose=1, solver='liblinear',random_state=0, C=5, penalty='l2',max_iter=1000)"
      ],
      "execution_count": 49,
      "outputs": []
    },
    {
      "cell_type": "code",
      "metadata": {
        "colab": {
          "base_uri": "https://localhost:8080/"
        },
        "id": "dTVc94yXbu6N",
        "outputId": "ebb362f0-a39c-46e5-946f-d75d5e7e69db"
      },
      "source": [
        "model=scikit_log_reg.fit(X,Y)"
      ],
      "execution_count": 50,
      "outputs": [
        {
          "output_type": "stream",
          "text": [
            "[LibLinear]"
          ],
          "name": "stdout"
        }
      ]
    },
    {
      "cell_type": "markdown",
      "metadata": {
        "id": "JJ-eKFGwlpA5"
      },
      "source": [
        "Extract class probabilities and get k observations with maximum probability of being a dumpling:"
      ]
    },
    {
      "cell_type": "code",
      "metadata": {
        "id": "BnGXOE5Xb97y"
      },
      "source": [
        "probs = model.predict_proba(X)"
      ],
      "execution_count": 53,
      "outputs": []
    },
    {
      "cell_type": "code",
      "metadata": {
        "id": "joFovD1ockUU"
      },
      "source": [
        " k = 20"
      ],
      "execution_count": 71,
      "outputs": []
    },
    {
      "cell_type": "code",
      "metadata": {
        "id": "p6ib_Dl4ce7h"
      },
      "source": [
        "best_n = np.argsort(probs, axis=0)"
      ],
      "execution_count": 64,
      "outputs": []
    },
    {
      "cell_type": "code",
      "metadata": {
        "colab": {
          "base_uri": "https://localhost:8080/"
        },
        "id": "7fehDw_hfUno",
        "outputId": "30bc5118-727e-483e-e18b-785aa3d3278f"
      },
      "source": [
        "xydf['product_name'].values[best_n[-k:,1]]"
      ],
      "execution_count": 75,
      "outputs": [
        {
          "output_type": "execute_result",
          "data": {
            "text/plain": [
              "array(['пельмень сибирский коллекция домашние 700г',\n",
              "       'пельмень сибирский коллекция русский 700г',\n",
              "       'пельмень рублевкий сибирский 800г',\n",
              "       'пельмень рублевский русский 800г',\n",
              "       'пельмень мясной дворик халяль сибирский 800г',\n",
              "       'пельмень дым домашние 800г',\n",
              "       'пельмень мираторга из телятина 800г',\n",
              "       'пельмень сибирский коллекция классический 700г',\n",
              "       'пельмень стародворье сливочный 800г',\n",
              "       'пельмень мираторга из мраморный говядина 800г',\n",
              "       'пельмень мираторга деревенский 800г',\n",
              "       'пельмень мираторга домашние из свинина и говядина 800г россия',\n",
              "       'пельмень вкусвилл с говядина и зелень 800г',\n",
              "       'пельмень мираторга домашние из свинина и говядина 800г',\n",
              "       'пельмень мираторга нежный 800г', 'пельмень мираторга свиной 800г',\n",
              "       'пельмень мираторга классический мини 800г',\n",
              "       'пельмень мираторга мясной 800г',\n",
              "       'пельмень вкусвилл с индейка 800г',\n",
              "       'пельмень вкусвилл с говядина и свинина 800г'], dtype=object)"
            ]
          },
          "metadata": {
            "tags": []
          },
          "execution_count": 75
        }
      ]
    },
    {
      "cell_type": "markdown",
      "metadata": {
        "id": "upaMvqewfyXY"
      },
      "source": [
        "Good enough!\r\n",
        "\r\n",
        "Now it is time to realy test our approach - and see how does it perform out of sample.\r\n",
        "\r\n",
        "First, we filter the whole sample so that no training data slips into it:\r\n"
      ]
    },
    {
      "cell_type": "code",
      "metadata": {
        "id": "h45KLBQ2hENw"
      },
      "source": [
        "trainid = [y['web_price_id'] for y in responseXY]"
      ],
      "execution_count": 85,
      "outputs": []
    },
    {
      "cell_type": "code",
      "metadata": {
        "id": "LOAKt8UwcfeS"
      },
      "source": [
        "test = [x for x in response if x['web_price_id'] not in trainid]"
      ],
      "execution_count": 86,
      "outputs": []
    },
    {
      "cell_type": "code",
      "metadata": {
        "id": "hS66uf1IgRA7"
      },
      "source": [
        "testdf = pd.DataFrame(test)"
      ],
      "execution_count": 88,
      "outputs": []
    },
    {
      "cell_type": "markdown",
      "metadata": {
        "id": "5Fkpztd2l9Ci"
      },
      "source": [
        "Do the same routine: vectorize labels - evaluate probabilities - get top k observations with highets probabilities of being a dumpling:"
      ]
    },
    {
      "cell_type": "code",
      "metadata": {
        "id": "bfWFbJlgcfrX"
      },
      "source": [
        "testX = tfidf_vectorizer.transform(testdf['product_name'].values)"
      ],
      "execution_count": 89,
      "outputs": []
    },
    {
      "cell_type": "code",
      "metadata": {
        "id": "y-Tv7Ho7c0zo"
      },
      "source": [
        "testprobs = model.predict_proba(testX)"
      ],
      "execution_count": 90,
      "outputs": []
    },
    {
      "cell_type": "code",
      "metadata": {
        "id": "Dz0OZWI5c0w0"
      },
      "source": [
        "test_best_n = np.argsort(testprobs, axis=0)"
      ],
      "execution_count": 91,
      "outputs": []
    },
    {
      "cell_type": "code",
      "metadata": {
        "colab": {
          "base_uri": "https://localhost:8080/"
        },
        "id": "0lDiMvTlc0tr",
        "outputId": "286da545-7c7c-4406-cc9a-dd3c602075dd"
      },
      "source": [
        "testdf['product_name'].values[test_best_n[-k:,1]]"
      ],
      "execution_count": 92,
      "outputs": [
        {
          "output_type": "execute_result",
          "data": {
            "text/plain": [
              "array(['пельмень сибирский коллекция DамплS мясной 150г',\n",
              "       'пельмень мой узол отборный 800г', 'пельмень классический 1кг',\n",
              "       'пельмень крутогорский с масло 400г',\n",
              "       'пельмень крутогорский классический 400г',\n",
              "       'пельмень сочнов с отборный говядина 900г',\n",
              "       'пельмень пельменный бутик Jimmy Щу из щука 400г',\n",
              "       'пельмень равиолло равиоли 450г',\n",
              "       'пельмень пельменный бутик говяджи & Kabban говядина и свинина 400г',\n",
              "       'пельмень мираторга фермерский 800г',\n",
              "       'пельмень крутогорский с масло 900г',\n",
              "       'пельмень крутогорский классический 900г',\n",
              "       'пельмень сочнов классический 900г',\n",
              "       'пельмень сибирский коллекция сочный 800г',\n",
              "       'пельмень кузнецов царский яство 800г',\n",
              "       'пельмень мираторга сливочный 800г',\n",
              "       'пельмень с говядина и свинина', 'пельмень микро с индейка',\n",
              "       'пельмень микро с говядина', 'пельмень «азиатский»'], dtype=object)"
            ]
          },
          "metadata": {
            "tags": []
          },
          "execution_count": 92
        }
      ]
    },
    {
      "cell_type": "markdown",
      "metadata": {
        "id": "KJ56T67DmM5x"
      },
      "source": [
        "Again - seems decent - and that's it for our toy example of product labelling."
      ]
    },
    {
      "cell_type": "code",
      "metadata": {
        "id": "Fql9OZ_QmbZQ"
      },
      "source": [
        ""
      ],
      "execution_count": null,
      "outputs": []
    }
  ]
}