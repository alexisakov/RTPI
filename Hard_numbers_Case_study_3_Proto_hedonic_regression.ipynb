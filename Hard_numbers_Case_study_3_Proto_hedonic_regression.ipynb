{
  "nbformat": 4,
  "nbformat_minor": 0,
  "metadata": {
    "colab": {
      "name": "Hard numbers. Case study 3. Proto-hedonic regression.ipynb",
      "provenance": [],
      "collapsed_sections": [],
      "authorship_tag": "ABX9TyOByD/c7DOLRB2TA2PdQa3/",
      "include_colab_link": true
    },
    "kernelspec": {
      "name": "python3",
      "display_name": "Python 3"
    }
  },
  "cells": [
    {
      "cell_type": "markdown",
      "metadata": {
        "id": "view-in-github",
        "colab_type": "text"
      },
      "source": [
        "<a href=\"https://colab.research.google.com/github/alexisakov/RTPI/blob/master/Hard_numbers_Case_study_3_Proto_hedonic_regression.ipynb\" target=\"_parent\"><img src=\"https://colab.research.google.com/assets/colab-badge.svg\" alt=\"Open In Colab\"/></a>"
      ]
    },
    {
      "cell_type": "markdown",
      "metadata": {
        "id": "SqWjUgABIgip"
      },
      "source": [
        "# Case 3. Simple hedonic regression"
      ]
    },
    {
      "cell_type": "code",
      "metadata": {
        "id": "7pFXJ-M4JHv6"
      },
      "source": [
        "import requests\r\n",
        "import numpy as np\r\n",
        "import pandas as pd\r\n",
        "from statsmodels.regression.linear_model import OLS\r\n",
        "from statsmodels.tools.tools import add_constant "
      ],
      "execution_count": 1,
      "outputs": []
    },
    {
      "cell_type": "markdown",
      "metadata": {
        "id": "9CgplJ9-bXxi"
      },
      "source": [
        "Set up connection to the Hard Numbers API - you will need your API Key - reach us to get one: https://t.me/xiskv."
      ]
    },
    {
      "cell_type": "code",
      "metadata": {
        "id": "TWgwxerPJEgO"
      },
      "source": [
        "base_url='http://rtpiapi.hrdn.io/'\r\n",
        "\r\n",
        "token = 'YOU API KEY'\r\n",
        "\r\n",
        "\r\n",
        "request_headers = {'Authorization': f'Bearer {token}',\r\n",
        "                    'Content-Type': 'application/json',\r\n",
        "                    'Range-Unit': 'items'\r\n",
        "                  }"
      ],
      "execution_count": 2,
      "outputs": []
    },
    {
      "cell_type": "markdown",
      "metadata": {
        "id": "Yx_gtvNSIggd"
      },
      "source": [
        "For hedonic regression we will need now all of the data we collect + a bit more data on the characteristics of the mobile phones."
      ]
    },
    {
      "cell_type": "markdown",
      "metadata": {
        "id": "eVPqp1qjIgeT"
      },
      "source": [
        "The algo can be as follows:\r\n",
        "\r\n",
        "* get all the positions marked as mobile phones\r\n",
        "* get their latest price\r\n",
        "* collect the data on the mobile phone characteristics from third source - we hand collect data from the Yandex.Market in this simple case\r\n",
        "* estimate linear regression"
      ]
    },
    {
      "cell_type": "markdown",
      "metadata": {
        "id": "eSVzYxN0Igbo"
      },
      "source": [
        "First, let's collect the data on the mobile phones, should be as easy as doing this:"
      ]
    },
    {
      "cell_type": "code",
      "metadata": {
        "id": "_i9wJjtmIZbc"
      },
      "source": [
        "ITEMCODE = 7104\r\n",
        "\r\n",
        "request_url = base_url + f'rtpi_product_name?select=*, rtpi_price_page(rosstat_id)'\r\n",
        "namedgood = requests.get(request_url, headers = request_headers).json()"
      ],
      "execution_count": 7,
      "outputs": []
    },
    {
      "cell_type": "code",
      "metadata": {
        "id": "cKsTAZ-CL5Rk"
      },
      "source": [
        "named = [x for x in namedgood if x['rtpi_price_page']['rosstat_id'] == ITEMCODE]"
      ],
      "execution_count": 11,
      "outputs": []
    },
    {
      "cell_type": "markdown",
      "metadata": {
        "id": "0rmPYEdLj2bH"
      },
      "source": [
        "Now let's get prices for these phones: "
      ]
    },
    {
      "cell_type": "code",
      "metadata": {
        "id": "5jAElF-8j7N2"
      },
      "source": [
        "namedid = [x[ 'web_price_id'] for x in named]"
      ],
      "execution_count": 15,
      "outputs": []
    },
    {
      "cell_type": "code",
      "metadata": {
        "id": "ehAsqK8eMTRn"
      },
      "source": [
        "request_url =base_url + f\"rtpi_price?select=*&web_price_id=in.{tuple(namedid)}\"\r\n",
        "prices = requests.get(request_url, headers = request_headers).json()"
      ],
      "execution_count": 16,
      "outputs": []
    },
    {
      "cell_type": "markdown",
      "metadata": {
        "id": "aIG3CrQebn2g"
      },
      "source": [
        "Let's select the latest prices:"
      ]
    },
    {
      "cell_type": "code",
      "metadata": {
        "id": "DvmPmq-ckim8"
      },
      "source": [
        "for x in named:\r\n",
        "  id = x['web_price_id']\r\n",
        "  pid = [p for p in prices if (p['web_price_id'] == id and p['current_price'] is not None)]\r\n",
        "  pid = sorted(pid, key=lambda k: k['date_observe'])\r\n",
        "  x.update({'price': pid[-1]['current_price'], 'date': pid[-1]['date_observe'] })\r\n",
        "  \r\n",
        "dfprice = pd.DataFrame(named)\r\n",
        "dfprice.set_index('web_price_id',inplace=True)"
      ],
      "execution_count": 27,
      "outputs": []
    },
    {
      "cell_type": "markdown",
      "metadata": {
        "id": "shBNNsyycaCM"
      },
      "source": [
        "We have prepared a small sample of phone characteristics - let's import it:"
      ]
    },
    {
      "cell_type": "code",
      "metadata": {
        "id": "_ODHBelCP8e0",
        "colab": {
          "base_uri": "https://localhost:8080/",
          "height": 235
        },
        "outputId": "1a7c6f94-5d10-407f-f5b1-28c6e9e7d5ac"
      },
      "source": [
        "dfsm = pd.read_excel('https://github.com/alexisakov/RTPI/raw/master/smchar.xlsx',sheet_name='X',index_col=0)\r\n",
        "dfsm.head()"
      ],
      "execution_count": 110,
      "outputs": [
        {
          "output_type": "execute_result",
          "data": {
            "text/html": [
              "<div>\n",
              "<style scoped>\n",
              "    .dataframe tbody tr th:only-of-type {\n",
              "        vertical-align: middle;\n",
              "    }\n",
              "\n",
              "    .dataframe tbody tr th {\n",
              "        vertical-align: top;\n",
              "    }\n",
              "\n",
              "    .dataframe thead th {\n",
              "        text-align: right;\n",
              "    }\n",
              "</style>\n",
              "<table border=\"1\" class=\"dataframe\">\n",
              "  <thead>\n",
              "    <tr style=\"text-align: right;\">\n",
              "      <th></th>\n",
              "      <th>product_name</th>\n",
              "      <th>brand</th>\n",
              "      <th>screen_size</th>\n",
              "      <th>screen_type</th>\n",
              "      <th>memory</th>\n",
              "      <th>camera_resolution</th>\n",
              "      <th>url</th>\n",
              "    </tr>\n",
              "    <tr>\n",
              "      <th>web_price_id</th>\n",
              "      <th></th>\n",
              "      <th></th>\n",
              "      <th></th>\n",
              "      <th></th>\n",
              "      <th></th>\n",
              "      <th></th>\n",
              "      <th></th>\n",
              "    </tr>\n",
              "  </thead>\n",
              "  <tbody>\n",
              "    <tr>\n",
              "      <th>325825</th>\n",
              "      <td>Doogee S68 Pro Mineral Black</td>\n",
              "      <td>Doogee</td>\n",
              "      <td>5.90</td>\n",
              "      <td>IPS</td>\n",
              "      <td>128</td>\n",
              "      <td>21.0</td>\n",
              "      <td>https://market.yandex.ru/product--smartfon-doo...</td>\n",
              "    </tr>\n",
              "    <tr>\n",
              "      <th>413103</th>\n",
              "      <td>ZTE Blade A3 2020 NFC Dark Grey</td>\n",
              "      <td>ZTE</td>\n",
              "      <td>5.45</td>\n",
              "      <td>IPS</td>\n",
              "      <td>32</td>\n",
              "      <td>8.0</td>\n",
              "      <td>https://market.yandex.ru/product--smartfon-zte...</td>\n",
              "    </tr>\n",
              "    <tr>\n",
              "      <th>325851</th>\n",
              "      <td>ZTE Blade A5 2020 Aquamarine</td>\n",
              "      <td>ZTE</td>\n",
              "      <td>6.09</td>\n",
              "      <td>IPS</td>\n",
              "      <td>32</td>\n",
              "      <td>13.0</td>\n",
              "      <td>https://market.yandex.ru/product--smartfon-zte...</td>\n",
              "    </tr>\n",
              "    <tr>\n",
              "      <th>325921</th>\n",
              "      <td>Смартфон Highscreen Max 3 Black</td>\n",
              "      <td>Highscreen</td>\n",
              "      <td>5.93</td>\n",
              "      <td>IPS</td>\n",
              "      <td>64</td>\n",
              "      <td>16.0</td>\n",
              "      <td>https://market.yandex.ru/product--smartfon-hig...</td>\n",
              "    </tr>\n",
              "    <tr>\n",
              "      <th>325786</th>\n",
              "      <td>Смартфон Huawei Y6 2019 (MRD-LX1F) Amber Brown</td>\n",
              "      <td>Huawei</td>\n",
              "      <td>5.93</td>\n",
              "      <td>IPS</td>\n",
              "      <td>64</td>\n",
              "      <td>16.0</td>\n",
              "      <td>https://market.yandex.ru/product--smartfon-hig...</td>\n",
              "    </tr>\n",
              "  </tbody>\n",
              "</table>\n",
              "</div>"
            ],
            "text/plain": [
              "                                                product_name  ...                                                url\n",
              "web_price_id                                                  ...                                                   \n",
              "325825                          Doogee S68 Pro Mineral Black  ...  https://market.yandex.ru/product--smartfon-doo...\n",
              "413103                       ZTE Blade A3 2020 NFC Dark Grey  ...  https://market.yandex.ru/product--smartfon-zte...\n",
              "325851                          ZTE Blade A5 2020 Aquamarine  ...  https://market.yandex.ru/product--smartfon-zte...\n",
              "325921                       Смартфон Highscreen Max 3 Black  ...  https://market.yandex.ru/product--smartfon-hig...\n",
              "325786        Смартфон Huawei Y6 2019 (MRD-LX1F) Amber Brown  ...  https://market.yandex.ru/product--smartfon-hig...\n",
              "\n",
              "[5 rows x 7 columns]"
            ]
          },
          "metadata": {
            "tags": []
          },
          "execution_count": 110
        }
      ]
    },
    {
      "cell_type": "markdown",
      "metadata": {
        "id": "sVz6JFIkcp50"
      },
      "source": [
        "Join the prices sample with the phone description data:"
      ]
    },
    {
      "cell_type": "code",
      "metadata": {
        "colab": {
          "base_uri": "https://localhost:8080/",
          "height": 320
        },
        "id": "VFt9NNBY-nim",
        "outputId": "852c4bdf-2eaa-44cc-cfdd-1567b938a50e"
      },
      "source": [
        "df = dfprice.join(dfsm, how='inner',rsuffix='_t2')\r\n",
        "df.head()"
      ],
      "execution_count": 47,
      "outputs": [
        {
          "output_type": "execute_result",
          "data": {
            "text/html": [
              "<div>\n",
              "<style scoped>\n",
              "    .dataframe tbody tr th:only-of-type {\n",
              "        vertical-align: middle;\n",
              "    }\n",
              "\n",
              "    .dataframe tbody tr th {\n",
              "        vertical-align: top;\n",
              "    }\n",
              "\n",
              "    .dataframe thead th {\n",
              "        text-align: right;\n",
              "    }\n",
              "</style>\n",
              "<table border=\"1\" class=\"dataframe\">\n",
              "  <thead>\n",
              "    <tr style=\"text-align: right;\">\n",
              "      <th></th>\n",
              "      <th>product_name</th>\n",
              "      <th>contributor_id</th>\n",
              "      <th>rtpi_price_page</th>\n",
              "      <th>price</th>\n",
              "      <th>date</th>\n",
              "      <th>product_name_t2</th>\n",
              "      <th>brand</th>\n",
              "      <th>screen_size</th>\n",
              "      <th>screen_type</th>\n",
              "      <th>memory</th>\n",
              "      <th>camera_resolution</th>\n",
              "      <th>url</th>\n",
              "    </tr>\n",
              "    <tr>\n",
              "      <th>web_price_id</th>\n",
              "      <th></th>\n",
              "      <th></th>\n",
              "      <th></th>\n",
              "      <th></th>\n",
              "      <th></th>\n",
              "      <th></th>\n",
              "      <th></th>\n",
              "      <th></th>\n",
              "      <th></th>\n",
              "      <th></th>\n",
              "      <th></th>\n",
              "      <th></th>\n",
              "    </tr>\n",
              "  </thead>\n",
              "  <tbody>\n",
              "    <tr>\n",
              "      <th>325921</th>\n",
              "      <td>Смартфон Highscreen Max 3 Black</td>\n",
              "      <td>1</td>\n",
              "      <td>{'rosstat_id': 7104}</td>\n",
              "      <td>12990</td>\n",
              "      <td>2020-11-07T12:07:33.963</td>\n",
              "      <td>Смартфон Highscreen Max 3 Black</td>\n",
              "      <td>Highscreen</td>\n",
              "      <td>5.93</td>\n",
              "      <td>IPS</td>\n",
              "      <td>64</td>\n",
              "      <td>16.0</td>\n",
              "      <td>https://market.yandex.ru/product--smartfon-hig...</td>\n",
              "    </tr>\n",
              "    <tr>\n",
              "      <th>325825</th>\n",
              "      <td>Смартфон Doogee S68 Pro Mineral Black</td>\n",
              "      <td>1</td>\n",
              "      <td>{'rosstat_id': 7104}</td>\n",
              "      <td>21490</td>\n",
              "      <td>2020-12-04T04:10:35.713</td>\n",
              "      <td>Doogee S68 Pro Mineral Black</td>\n",
              "      <td>Doogee</td>\n",
              "      <td>5.90</td>\n",
              "      <td>IPS</td>\n",
              "      <td>128</td>\n",
              "      <td>21.0</td>\n",
              "      <td>https://market.yandex.ru/product--smartfon-doo...</td>\n",
              "    </tr>\n",
              "    <tr>\n",
              "      <th>413103</th>\n",
              "      <td>Смартфон ZTE Blade A3 2020 NFC Dark Grey</td>\n",
              "      <td>1</td>\n",
              "      <td>{'rosstat_id': 7104}</td>\n",
              "      <td>5990</td>\n",
              "      <td>2020-11-05T20:08:25.997</td>\n",
              "      <td>ZTE Blade A3 2020 NFC Dark Grey</td>\n",
              "      <td>ZTE</td>\n",
              "      <td>5.45</td>\n",
              "      <td>IPS</td>\n",
              "      <td>32</td>\n",
              "      <td>8.0</td>\n",
              "      <td>https://market.yandex.ru/product--smartfon-zte...</td>\n",
              "    </tr>\n",
              "    <tr>\n",
              "      <th>325851</th>\n",
              "      <td>Смартфон ZTE Blade A5 2020 Aquamarine</td>\n",
              "      <td>1</td>\n",
              "      <td>{'rosstat_id': 7104}</td>\n",
              "      <td>7990</td>\n",
              "      <td>2020-12-04T04:10:01.277</td>\n",
              "      <td>ZTE Blade A5 2020 Aquamarine</td>\n",
              "      <td>ZTE</td>\n",
              "      <td>6.09</td>\n",
              "      <td>IPS</td>\n",
              "      <td>32</td>\n",
              "      <td>13.0</td>\n",
              "      <td>https://market.yandex.ru/product--smartfon-zte...</td>\n",
              "    </tr>\n",
              "    <tr>\n",
              "      <th>325471</th>\n",
              "      <td>Смартфон Samsung Galaxy S10E Аквамарин</td>\n",
              "      <td>1</td>\n",
              "      <td>{'rosstat_id': 7104}</td>\n",
              "      <td>44990</td>\n",
              "      <td>2020-10-19T06:26:01.167</td>\n",
              "      <td>Смартфон Samsung Galaxy S10E Аквамарин</td>\n",
              "      <td>Samsung</td>\n",
              "      <td>5.80</td>\n",
              "      <td>AMOLED</td>\n",
              "      <td>128</td>\n",
              "      <td>16.0</td>\n",
              "      <td>https://market.yandex.ru/product--smartfon-sam...</td>\n",
              "    </tr>\n",
              "  </tbody>\n",
              "</table>\n",
              "</div>"
            ],
            "text/plain": [
              "                                            product_name  ...                                                url\n",
              "web_price_id                                              ...                                                   \n",
              "325921                  Смартфон Highscreen Max 3 Black   ...  https://market.yandex.ru/product--smartfon-hig...\n",
              "325825            Смартфон Doogee S68 Pro Mineral Black   ...  https://market.yandex.ru/product--smartfon-doo...\n",
              "413103         Смартфон ZTE Blade A3 2020 NFC Dark Grey   ...  https://market.yandex.ru/product--smartfon-zte...\n",
              "325851            Смартфон ZTE Blade A5 2020 Aquamarine   ...  https://market.yandex.ru/product--smartfon-zte...\n",
              "325471           Смартфон Samsung Galaxy S10E Аквамарин   ...  https://market.yandex.ru/product--smartfon-sam...\n",
              "\n",
              "[5 rows x 12 columns]"
            ]
          },
          "metadata": {
            "tags": []
          },
          "execution_count": 47
        }
      ]
    },
    {
      "cell_type": "markdown",
      "metadata": {
        "id": "CfIviTb_c2Ci"
      },
      "source": [
        "Prepared the X variables:"
      ]
    },
    {
      "cell_type": "code",
      "metadata": {
        "id": "SdQSsuor-NPY"
      },
      "source": [
        "X = df[['brand', 'screen_size',\t'screen_type',\t'memory',\t'camera_resolution']]\r\n",
        "X.loc[:,'ssg_q'] = X.brand.apply(lambda x: 1 if x == 'Samsung' else 0)"
      ],
      "execution_count": 102,
      "outputs": []
    },
    {
      "cell_type": "code",
      "metadata": {
        "id": "nLRCWBuFAZc_"
      },
      "source": [
        "X = X.join(pd.get_dummies(X.screen_type, drop_first=True), how='inner')\r\n",
        "X.drop(['brand','screen_type'],inplace=True,axis=1)\r\n",
        "X = add_constant(X, prepend=False)"
      ],
      "execution_count": 104,
      "outputs": []
    },
    {
      "cell_type": "markdown",
      "metadata": {
        "id": "t1kD1Y7rdUmE"
      },
      "source": [
        "The Y is the price:"
      ]
    },
    {
      "cell_type": "code",
      "metadata": {
        "id": "nLyJ2psGBXsP"
      },
      "source": [
        "Y =  df[['price']]"
      ],
      "execution_count": 65,
      "outputs": []
    },
    {
      "cell_type": "markdown",
      "metadata": {
        "id": "Um4hEu1fdcU2"
      },
      "source": [
        "Estimate the linear retression and view the results:"
      ]
    },
    {
      "cell_type": "code",
      "metadata": {
        "id": "Nl9NVji5CFHe"
      },
      "source": [
        "mo = OLS(Y,X)\r\n",
        "res = mo.fit()"
      ],
      "execution_count": 107,
      "outputs": []
    },
    {
      "cell_type": "code",
      "metadata": {
        "colab": {
          "base_uri": "https://localhost:8080/"
        },
        "id": "KctCd4wCDcax",
        "outputId": "ecc45638-b369-4d1f-ba89-e45f9933d581"
      },
      "source": [
        "print(res.summary())"
      ],
      "execution_count": 108,
      "outputs": [
        {
          "output_type": "stream",
          "text": [
            "                            OLS Regression Results                            \n",
            "==============================================================================\n",
            "Dep. Variable:                  price   R-squared:                       0.980\n",
            "Model:                            OLS   Adj. R-squared:                  0.966\n",
            "Method:                 Least Squares   F-statistic:                     70.12\n",
            "Date:                Wed, 13 Jan 2021   Prob (F-statistic):           7.96e-06\n",
            "Time:                        09:30:31   Log-Likelihood:                -119.27\n",
            "No. Observations:                  13   AIC:                             250.5\n",
            "Df Residuals:                       7   BIC:                             253.9\n",
            "Df Model:                           5                                         \n",
            "Covariance Type:            nonrobust                                         \n",
            "=====================================================================================\n",
            "                        coef    std err          t      P>|t|      [0.025      0.975]\n",
            "-------------------------------------------------------------------------------------\n",
            "screen_size          21.6020    389.112      0.056      0.957    -898.501     941.706\n",
            "memory              150.2595     58.504      2.568      0.037      11.919     288.600\n",
            "camera_resolution   166.1904    532.753      0.312      0.764   -1093.569    1425.950\n",
            "ssg_q              1.844e+04   2355.353      7.829      0.000    1.29e+04     2.4e+04\n",
            "IPS               -8867.3738   2470.435     -3.589      0.009   -1.47e+04   -3025.723\n",
            "TFT               -1400.8822   2716.933     -0.516      0.622   -7825.407    5023.643\n",
            "const              8171.6267   2414.278      3.385      0.012    2462.767    1.39e+04\n",
            "==============================================================================\n",
            "Omnibus:                        1.194   Durbin-Watson:                   1.903\n",
            "Prob(Omnibus):                  0.550   Jarque-Bera (JB):                0.277\n",
            "Skew:                           0.354   Prob(JB):                        0.870\n",
            "Kurtosis:                       3.102   Cond. No.                     8.85e+17\n",
            "==============================================================================\n",
            "\n",
            "Warnings:\n",
            "[1] Standard Errors assume that the covariance matrix of the errors is correctly specified.\n",
            "[2] The smallest eigenvalue is 9.34e-32. This might indicate that there are\n",
            "strong multicollinearity problems or that the design matrix is singular.\n"
          ],
          "name": "stdout"
        },
        {
          "output_type": "stream",
          "text": [
            "/usr/local/lib/python3.6/dist-packages/scipy/stats/stats.py:1535: UserWarning: kurtosistest only valid for n>=20 ... continuing anyway, n=13\n",
            "  \"anyway, n=%i\" % int(n))\n"
          ],
          "name": "stderr"
        }
      ]
    }
  ]
}